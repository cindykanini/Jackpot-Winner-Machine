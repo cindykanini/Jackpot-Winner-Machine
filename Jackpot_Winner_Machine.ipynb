{
  "cells": [
    {
      "cell_type": "markdown",
      "metadata": {
        "id": "view-in-github",
        "colab_type": "text"
      },
      "source": [
        "<a href=\"https://colab.research.google.com/github/cindykanini/Jackpot-Winner-Machine/blob/main/Jackpot_Winner_Machine.ipynb\" target=\"_parent\"><img src=\"https://colab.research.google.com/assets/colab-badge.svg\" alt=\"Open In Colab\"/></a>"
      ]
    },
    {
      "cell_type": "markdown",
      "id": "80c6de7c",
      "metadata": {
        "id": "80c6de7c"
      },
      "source": [
        ""
      ]
    },
    {
      "cell_type": "code",
      "execution_count": null,
      "id": "c7b3ef5f",
      "metadata": {
        "id": "c7b3ef5f"
      },
      "outputs": [],
      "source": [
        "import random\n",
        "def part(): \n",
        "  #inputing user names\n",
        "    name = input(\"Enter unique names for each of the participants separated by comma\")\n",
        "    ind_nam = name.split(', ')\n",
        "    if len(ind_nam) != len(set(ind_nam)):\n",
        "        print(\"You have not entered unique names for the partipants\")\n",
        "        part()\n",
        "        #picking a random winner\n",
        "    else:\n",
        "        print(\"The winner is: \", random.choice(ind_nam))"
      ]
    },
    {
      "cell_type": "code",
      "execution_count": null,
      "id": "44a75e07",
      "metadata": {
        "id": "44a75e07",
        "outputId": "4de27e2d-b357-4c4a-d366-01104b0b0777"
      },
      "outputs": [
        {
          "name": "stdout",
          "output_type": "stream",
          "text": [
            "Enter unique names for each of the participants separated by commacindy, cindy, kelvin, jane\n",
            "You have not entered unique names for the partipants\n",
            "Enter unique names for each of the participants separated by commacindy, kanini, kelvin, jane\n",
            "The winner is:  kelvin\n"
          ]
        }
      ],
      "source": [
        "part()"
      ]
    },
    {
      "cell_type": "code",
      "execution_count": null,
      "id": "ff0bf0b0",
      "metadata": {
        "id": "ff0bf0b0"
      },
      "outputs": [],
      "source": [
        ""
      ]
    }
  ],
  "metadata": {
    "kernelspec": {
      "display_name": "Python 3 (ipykernel)",
      "language": "python",
      "name": "python3"
    },
    "language_info": {
      "codemirror_mode": {
        "name": "ipython",
        "version": 3
      },
      "file_extension": ".py",
      "mimetype": "text/x-python",
      "name": "python",
      "nbconvert_exporter": "python",
      "pygments_lexer": "ipython3",
      "version": "3.9.7"
    },
    "colab": {
      "name": "Jackpot Winner Machine.ipynb",
      "provenance": [],
      "collapsed_sections": [],
      "include_colab_link": true
    }
  },
  "nbformat": 4,
  "nbformat_minor": 5
}